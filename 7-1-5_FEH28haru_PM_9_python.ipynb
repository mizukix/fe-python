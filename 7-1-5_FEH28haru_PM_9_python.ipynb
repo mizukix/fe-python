{
 "cells": [
  {
   "cell_type": "markdown",
   "metadata": {},
   "source": [
    "フラクタル図形の問題　（平成28年春基本情報技術者試験午後問9(C)改）"
   ]
  },
  {
   "cell_type": "code",
   "execution_count": 1,
   "metadata": {},
   "outputs": [],
   "source": [
    "pat = [[1, 1], [1, 0]]"
   ]
  },
  {
   "cell_type": "code",
   "execution_count": 2,
   "metadata": {},
   "outputs": [],
   "source": [
    "p_rn = len(pat)\n",
    "p_cn = len(pat[0])"
   ]
  },
  {
   "cell_type": "code",
   "execution_count": 3,
   "metadata": {},
   "outputs": [],
   "source": [
    "def print_frac(d):\n",
    "    rn = cn = 1\n",
    "    for i in range(d):\n",
    "        rn *= p_rn\n",
    "        cn *= p_cn\n",
    "    for i in range(rn):\n",
    "        for j in range(cn):\n",
    "                print(\"*\" if exists_at(i, j, d) else \" \", end=\"\")\n",
    "        print()"
   ]
  },
  {
   "cell_type": "code",
   "execution_count": 4,
   "metadata": {},
   "outputs": [],
   "source": [
    "def exists_at(i, j, d):\n",
    "    if d == 0:\n",
    "        return 1\n",
    "    elif exists_at(i // p_rn, j // p_cn, d-1) == 0:\n",
    "        return 0\n",
    "    else:\n",
    "        return pat[i % p_rn][j % p_cn]"
   ]
  },
  {
   "cell_type": "code",
   "execution_count": 5,
   "metadata": {},
   "outputs": [
    {
     "name": "stdout",
     "output_type": "stream",
     "text": [
      "********\n",
      "* * * * \n",
      "**  **  \n",
      "*   *   \n",
      "****    \n",
      "* *     \n",
      "**      \n",
      "*       \n"
     ]
    }
   ],
   "source": [
    "print_frac(3)"
   ]
  },
  {
   "cell_type": "code",
   "execution_count": 6,
   "metadata": {},
   "outputs": [],
   "source": [
    "pat = [[1, 1, 1], [1, 0, 1]]\n",
    "\n",
    "p_rn = len(pat)\n",
    "p_cn = len(pat[0])"
   ]
  },
  {
   "cell_type": "code",
   "execution_count": 7,
   "metadata": {},
   "outputs": [
    {
     "name": "stdout",
     "output_type": "stream",
     "text": [
      "***************************\n",
      "* ** ** ** ** ** ** ** ** *\n",
      "***   ******   ******   ***\n",
      "* *   * ** *   * ** *   * *\n",
      "*********         *********\n",
      "* ** ** *         * ** ** *\n",
      "***   ***         ***   ***\n",
      "* *   * *         * *   * *\n"
     ]
    }
   ],
   "source": [
    "print_frac(3)"
   ]
  },
  {
   "cell_type": "code",
   "execution_count": null,
   "metadata": {},
   "outputs": [],
   "source": []
  }
 ],
 "metadata": {
  "kernelspec": {
   "display_name": "Python 3",
   "language": "python",
   "name": "python3"
  },
  "language_info": {
   "codemirror_mode": {
    "name": "ipython",
    "version": 3
   },
   "file_extension": ".py",
   "mimetype": "text/x-python",
   "name": "python",
   "nbconvert_exporter": "python",
   "pygments_lexer": "ipython3",
   "version": "3.7.6"
  }
 },
 "nbformat": 4,
 "nbformat_minor": 2
}
