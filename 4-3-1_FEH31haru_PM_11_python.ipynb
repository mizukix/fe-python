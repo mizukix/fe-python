{
 "cells": [
  {
   "cell_type": "markdown",
   "metadata": {},
   "source": [
    "### 4-3-1 オブジェクト指向問題の演習  \n",
    "（平成31年春 基本情報技術者試験 午後 問11（Java）改）"
   ]
  },
  {
   "cell_type": "markdown",
   "metadata": {},
   "source": [
    "#### 〔プログラム1〕"
   ]
  },
  {
   "cell_type": "code",
   "execution_count": 1,
   "metadata": {},
   "outputs": [],
   "source": [
    "class Maze():\n",
    "    def __init__(self, mazeData, width):\n",
    "        self.mazeData = mazeData\n",
    "        self.width = int(width)\n",
    "        self.startLocation = self.locationOf('S')\n",
    "        \n",
    "    def getStartLocation(self):\n",
    "        return self.startLocation\n",
    "    \n",
    "    def isGoal(self, loc):\n",
    "        return self.mazeData[loc.y * self.width + loc.x] == 'G'\n",
    "\n",
    "    def isBlank(self, loc):\n",
    "        return self.mazeData[loc.y * self.width + loc.x] != '*'\n",
    "\n",
    "    def locationOf(self, c):\n",
    "        index = self.mazeData.index(c)\n",
    "        return Location(index % self.width, index // self.width)"
   ]
  },
  {
   "cell_type": "markdown",
   "metadata": {},
   "source": [
    "#### 〔プログラム2〕（元のJava問題ではプログラム3）"
   ]
  },
  {
   "cell_type": "code",
   "execution_count": 2,
   "metadata": {},
   "outputs": [],
   "source": [
    "from enum import Enum   # 標準ライブラリの列挙型Enumを継承\n",
    "\n",
    "class Direction(Enum):\n",
    "    NORTH = (0, -1)\n",
    "    EAST  = (1, 0)\n",
    "    SOUTH = (0, 1)\n",
    "    WEST  = (-1, 0)\n",
    "        \n",
    "    def __init__(self, dx, dy):\n",
    "        self.dx = int(dx)\n",
    "        self.dy = int(dy)\n",
    "        self.values = ['NORTH', 'EAST', 'SOUTH', 'WEST']\n",
    "    \n",
    "    def left(self):\n",
    "        order = self.values.index(Direction((self.dx, self.dy)).name)  # 現在の方向の添字を取得\n",
    "        return (Direction[self.values[(order + 3) % 4]])\n",
    "    \n",
    "    def right(self):\n",
    "        order = self.values.index(Direction((self.dx, self.dy)).name)  # 現在の方向の添字を取得\n",
    "        return (Direction[self.values[(order + 1) % 4]])\n",
    "    \n",
    "    def __repr__(self):   # 表示するときには，名前のみ\n",
    "        return Direction((self.dx, self.dy)).name"
   ]
  },
  {
   "cell_type": "markdown",
   "metadata": {},
   "source": [
    "#### 〔プログラム3〕（元のJava問題ではプログラム4）"
   ]
  },
  {
   "cell_type": "code",
   "execution_count": 3,
   "metadata": {},
   "outputs": [],
   "source": [
    "class Location():\n",
    "    def __init__(self, x, y):\n",
    "        self.x = int(x)\n",
    "        self.y = int(y)"
   ]
  },
  {
   "cell_type": "markdown",
   "metadata": {},
   "source": [
    "#### 〔プログラム4〕（元のJava問題ではプログラム2）"
   ]
  },
  {
   "cell_type": "code",
   "execution_count": 4,
   "metadata": {},
   "outputs": [],
   "source": [
    "class Piece():\n",
    "    def __init__(self, maze):\n",
    "        self.history = []\n",
    "        self.direction = Direction.NORTH\n",
    "        self.maze = maze\n",
    "        self.location = self.maze.getStartLocation()\n",
    "    \n",
    "    def turnLeft(self):\n",
    "        self.direction = self.direction.left()\n",
    "    \n",
    "    def turnRight(self):\n",
    "        self.direction = self.direction.right()\n",
    "    \n",
    "    def tryStepForward(self):\n",
    "        nextLocation = Location(self.location.x + self.direction.dx, self.location.y + self.direction.dy)\n",
    "        if self.maze.isBlank(nextLocation):\n",
    "            self.location = nextLocation\n",
    "            self.history.append(self.direction)\n",
    "            return True\n",
    "        return False\n",
    "    \n",
    "    def isAtGoal(self):\n",
    "        return self.maze.isGoal(self.location)\n",
    "    \n",
    "    def getHistory(self):\n",
    "        return self.history        "
   ]
  },
  {
   "cell_type": "markdown",
   "metadata": {},
   "source": [
    "#### 〔プログラム5〕"
   ]
  },
  {
   "cell_type": "code",
   "execution_count": 5,
   "metadata": {},
   "outputs": [
    {
     "name": "stdout",
     "output_type": "stream",
     "text": [
      "[NORTH, EAST, WEST, SOUTH, SOUTH, EAST, EAST, EAST, NORTH, NORTH, EAST, WEST, SOUTH, SOUTH, EAST, SOUTH, SOUTH, WEST, WEST, WEST, WEST]\n"
     ]
    }
   ],
   "source": [
    "maze = Maze(\"*******\" +\n",
    "            \"*..*..*\" +\n",
    "            \"*S**.**\" +\n",
    "            \"*.....*\" +\n",
    "            \"*****.*\" +\n",
    "            \"*G....*\" +\n",
    "            \"*******\", 7)\n",
    "piece = Piece(maze)\n",
    "while not piece.isAtGoal():\n",
    "    piece.turnLeft()\n",
    "    while not piece.tryStepForward():\n",
    "        piece.turnRight()\n",
    "    \n",
    "history = piece.getHistory()\n",
    "                                     # ← α\n",
    "\n",
    "print(history)"
   ]
  },
  {
   "cell_type": "markdown",
   "metadata": {},
   "source": [
    "#### 設問2\n",
    "プログラム5に設問2設問文のα部分の処理を追加"
   ]
  },
  {
   "cell_type": "code",
   "execution_count": 6,
   "metadata": {},
   "outputs": [
    {
     "name": "stdout",
     "output_type": "stream",
     "text": [
      "[SOUTH, EAST, EAST, EAST, EAST, SOUTH, SOUTH, WEST, WEST, WEST, WEST]\n"
     ]
    }
   ],
   "source": [
    "maze = Maze(\"*******\" +\n",
    "            \"*..*..*\" +\n",
    "            \"*S**.**\" +\n",
    "            \"*.....*\" +\n",
    "            \"*****.*\" +\n",
    "            \"*G....*\" +\n",
    "            \"*******\", 7)\n",
    "piece = Piece(maze)\n",
    "while not piece.isAtGoal():\n",
    "    piece.turnLeft()\n",
    "    while not piece.tryStepForward():\n",
    "        piece.turnRight()\n",
    "    \n",
    "history = piece.getHistory()\n",
    "\n",
    "i = 1\n",
    "while i < len(history):\n",
    "    if history[i - 1] == history[i].left().left():\n",
    "        history.pop(i - 1)\n",
    "        history.pop(i - 1)\n",
    "        i = 0 if i < 2 else i - 2\n",
    "    i += 1                               \n",
    "print(history)"
   ]
  },
  {
   "cell_type": "code",
   "execution_count": null,
   "metadata": {},
   "outputs": [],
   "source": []
  }
 ],
 "metadata": {
  "kernelspec": {
   "display_name": "Python 3",
   "language": "python",
   "name": "python3"
  },
  "language_info": {
   "codemirror_mode": {
    "name": "ipython",
    "version": 3
   },
   "file_extension": ".py",
   "mimetype": "text/x-python",
   "name": "python",
   "nbconvert_exporter": "python",
   "pygments_lexer": "ipython3",
   "version": "3.7.3"
  }
 },
 "nbformat": 4,
 "nbformat_minor": 2
}
