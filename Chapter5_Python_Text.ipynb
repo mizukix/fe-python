{
 "cells": [
  {
   "cell_type": "markdown",
   "metadata": {},
   "source": [
    "### Python教科書　5章プログラム例"
   ]
  },
  {
   "cell_type": "markdown",
   "metadata": {},
   "source": [
    "#### 5-1-2 データ構造の表現\n",
    "Pythonでのキューの表現"
   ]
  },
  {
   "cell_type": "code",
   "execution_count": 1,
   "metadata": {},
   "outputs": [
    {
     "data": {
      "text/plain": [
       "deque(['A', 'B', 'C'])"
      ]
     },
     "execution_count": 1,
     "metadata": {},
     "output_type": "execute_result"
    }
   ],
   "source": [
    "from collections import deque\n",
    "\n",
    "Q = deque()           # deque型のインスタンスQを作成\n",
    "Q.append('A')\n",
    "Q.append('B')\n",
    "Q.append('C')\n",
    "Q"
   ]
  },
  {
   "cell_type": "code",
   "execution_count": 2,
   "metadata": {},
   "outputs": [
    {
     "data": {
      "text/plain": [
       "'A'"
      ]
     },
     "execution_count": 2,
     "metadata": {},
     "output_type": "execute_result"
    }
   ],
   "source": [
    "Q.popleft()"
   ]
  },
  {
   "cell_type": "code",
   "execution_count": 3,
   "metadata": {},
   "outputs": [
    {
     "data": {
      "text/plain": [
       "deque(['B', 'C'])"
      ]
     },
     "execution_count": 3,
     "metadata": {},
     "output_type": "execute_result"
    }
   ],
   "source": [
    "Q"
   ]
  },
  {
   "cell_type": "markdown",
   "metadata": {},
   "source": [
    "隣接行列"
   ]
  },
  {
   "cell_type": "code",
   "execution_count": 4,
   "metadata": {},
   "outputs": [],
   "source": [
    "graph = [[0, 1, 1, 1],\n",
    "         [1, 0, 1, 0],\n",
    "         [1, 1, 0, 0],\n",
    "         [1, 0, 0, 0]]"
   ]
  },
  {
   "cell_type": "markdown",
   "metadata": {},
   "source": [
    "隣接グラフ"
   ]
  },
  {
   "cell_type": "code",
   "execution_count": 5,
   "metadata": {},
   "outputs": [],
   "source": [
    "graph = [['B', 'C', 'D'],\n",
    "         ['A', 'C'],\n",
    "         ['A', 'B'],\n",
    "         ['A']]"
   ]
  },
  {
   "cell_type": "markdown",
   "metadata": {},
   "source": [
    "#### 5-2-2 探索・整列のアルゴリズム"
   ]
  },
  {
   "cell_type": "markdown",
   "metadata": {},
   "source": [
    "【例】線形探索を行う関数search()"
   ]
  },
  {
   "cell_type": "code",
   "execution_count": 6,
   "metadata": {},
   "outputs": [],
   "source": [
    "def search(data, target):\n",
    "    for i in range(len(data)):  # 先頭から順番に探索\n",
    "        if data[i] == target:   # 見つかったときにはその位置iを返す\n",
    "            return i\n",
    "    return -1                   # 見つからないときは-1を返す"
   ]
  },
  {
   "cell_type": "markdown",
   "metadata": {},
   "source": [
    "【例】関数search()の実行"
   ]
  },
  {
   "cell_type": "code",
   "execution_count": 7,
   "metadata": {},
   "outputs": [
    {
     "name": "stdout",
     "output_type": "stream",
     "text": [
      "要素番号8にデータ9を見つけました。\n"
     ]
    }
   ],
   "source": [
    "data = [1, 2, 3, 4, 5, 6, 7, 8, 9]\n",
    "target = 9\n",
    "print(\"要素番号{}にデータ{}を見つけました。\".format(search(data, target), target))"
   ]
  },
  {
   "cell_type": "markdown",
   "metadata": {},
   "source": [
    "【例】2分探索を行う関数search()"
   ]
  },
  {
   "cell_type": "code",
   "execution_count": 8,
   "metadata": {},
   "outputs": [],
   "source": [
    "def search(data, target):\n",
    "    start, end = 0, len(data)-1   # 探索するデータの始点startと終点endを設定\n",
    "    while start <= end:           # 探索するデータがある間は繰り返す\n",
    "        i = (start + end) // 2    # 真ん中のデータをiとする\n",
    "        if data[i] == target:     # 見つかったときにはその位置iを返す\n",
    "            return i\n",
    "        elif data[i] < target:    # targetの値の方が大きい場合は後のグループを探索\n",
    "            start = i + 1\n",
    "        else:                     # そうでない合は前のグループを探索\n",
    "            end = i - 1\n",
    "    return -1                     # 見つからないときは-1を返す"
   ]
  },
  {
   "cell_type": "markdown",
   "metadata": {},
   "source": [
    "【例】バブルソートを行う関数sort()"
   ]
  },
  {
   "cell_type": "code",
   "execution_count": 9,
   "metadata": {},
   "outputs": [],
   "source": [
    "def sort(data):\n",
    "    for i in range(len(data)-1, 0, -1):     # 後ろから順に比較していく\n",
    "        for j in range(i):                  # 未整列の部分を比較\n",
    "            if data[j] > data[j+1]:         # 隣り合う要素で前の方が大きい場合\n",
    "                data[j], data[j+1] = data[j+1], data[j]  # 要素を入れ替える"
   ]
  },
  {
   "cell_type": "markdown",
   "metadata": {},
   "source": [
    "【例】関数sort() の実行"
   ]
  },
  {
   "cell_type": "code",
   "execution_count": 10,
   "metadata": {},
   "outputs": [
    {
     "name": "stdout",
     "output_type": "stream",
     "text": [
      "[1, 1, 2, 2, 3, 3, 3, 4, 4, 4, 9]\n"
     ]
    }
   ],
   "source": [
    "data = [4, 3, 2, 3, 4, 2, 1, 3, 4, 1, 9]\n",
    "sort(data)\n",
    "print(data)"
   ]
  },
  {
   "cell_type": "markdown",
   "metadata": {},
   "source": [
    "【例】挿入ソートを行う関数sort()"
   ]
  },
  {
   "cell_type": "code",
   "execution_count": 11,
   "metadata": {},
   "outputs": [],
   "source": [
    "def sort(data):\n",
    "    for i in range(0, len(data)):            # 最初から順に整列させていく\n",
    "        for j in range(i-1, -1, -1):         # 一番後ろの要素を挿入する場所を探す\n",
    "            if data[j] > data[j+1]:          # 隣り合う要素で前の方が大きい場合\n",
    "                data[j], data[j+1] = data[j+1], data[j]  # 要素を入れ替える\n",
    "            else:\n",
    "                break                        # 挿入する部分が見つかれば終わり"
   ]
  },
  {
   "cell_type": "markdown",
   "metadata": {},
   "source": [
    "【例】選択ソートを行う関数sort()"
   ]
  },
  {
   "cell_type": "code",
   "execution_count": 12,
   "metadata": {},
   "outputs": [],
   "source": [
    "def sort(data):\n",
    "    for i in range(0, len(data)-1):            # 最初から順に選択していく\n",
    "        min_i = i                              # 最小値の位置をmin_iに求める\n",
    "        for j in range(i+1, len(data)):        # 最小値を探すループ\n",
    "            if data[min_i] > data[j]:          # より小さい値があれば，最小値を置き換える\n",
    "                min_i = j\n",
    "        data[min_i], data[i] = data[i], data[min_i]  # 最小値の場所と要素を入れ替える"
   ]
  },
  {
   "cell_type": "markdown",
   "metadata": {},
   "source": [
    "【例】シェルソートを行う関数sort()  "
   ]
  },
  {
   "cell_type": "code",
   "execution_count": 13,
   "metadata": {},
   "outputs": [],
   "source": [
    "def sort(data):\n",
    "    gaps = [7, 3, 1]                                # ギャップの値をあらかじめ設定\n",
    "    for gap in gaps:                                # gapを段々狭めて繰り返す\n",
    "        for start in range(gap):                    # gap分離れた複数の組を順番にソート\n",
    "            for i in range(start, len(data), gap):  # gapの幅で飛ばしながら挿入ソート\n",
    "                for j in range(i-gap, -1, -gap):    # 終値を-1に設定（0まで実行）\n",
    "                    if data[j] > data[j+gap]:       # gap分離れた要素で前の方が大きい場合\n",
    "                        data[j], data[j+gap] = data[j+gap], data[j]  # 要素を入れ替える\n",
    "                    else:\n",
    "                        break                       # 挿入する部分が見つかれば終わり"
   ]
  },
  {
   "cell_type": "markdown",
   "metadata": {},
   "source": [
    "【例】標準ライブラリheapqを利用してヒープソートを行う関数sort()"
   ]
  },
  {
   "cell_type": "code",
   "execution_count": 14,
   "metadata": {},
   "outputs": [],
   "source": [
    "from heapq import heappush, heappop      # ヒープを扱う標準ライブラリheapqを利用\n",
    "\n",
    "def sort(data):\n",
    "    heap = []                            # 空のヒープ（リスト）を作成\n",
    "    while data:                          # dataから要素を取り出して，ヒープに入れる\n",
    "        heappush(heap, data.pop())       # dataの最後の要素を取り出して，heappushでheapに入れる\n",
    "    while heap:                          # heapから順に要素を取り出し，dataに戻す\n",
    "        data.append(heappop(heap))       # heapから最小値を取り出して，dataの最後に追加する"
   ]
  },
  {
   "cell_type": "markdown",
   "metadata": {},
   "source": [
    "【例】再帰関数f()  \n",
    "f(n) : if n≦1 then return 1 else return n+f(n-1)"
   ]
  },
  {
   "cell_type": "code",
   "execution_count": 15,
   "metadata": {},
   "outputs": [],
   "source": [
    "def f(n):\n",
    "    if n <= 1:\n",
    "        return 1\n",
    "    else:\n",
    "        return n + f(n-1)"
   ]
  },
  {
   "cell_type": "markdown",
   "metadata": {},
   "source": [
    "【例】再帰関数f() の実行"
   ]
  },
  {
   "cell_type": "code",
   "execution_count": 16,
   "metadata": {},
   "outputs": [
    {
     "name": "stdout",
     "output_type": "stream",
     "text": [
      "15\n"
     ]
    }
   ],
   "source": [
    "print(f(5))"
   ]
  },
  {
   "cell_type": "markdown",
   "metadata": {},
   "source": [
    "【例】再帰を用いてクイックソートを行う関数sort()"
   ]
  },
  {
   "cell_type": "code",
   "execution_count": 17,
   "metadata": {},
   "outputs": [],
   "source": [
    "def sort(data):\n",
    "    n = len(data)\n",
    "    pivot = data[n//2]               # 今回の基準値には，真ん中の値を利用  \n",
    "    left, right, middle = [], [], []\n",
    "    for i in range(n):\n",
    "        if data[i] < pivot:          # 基準値より小さい場合は，左部分列leftに追加\n",
    "            left.append(data[i])\n",
    "        elif data[i] > pivot:        # 基準値より大きい場合は，右部分列rightに追加\n",
    "            right.append(data[i])\n",
    "        else:\n",
    "            middle.append(data[i])   # 基準値と同じ場合には，部分列middleに追加\n",
    "    if left:\n",
    "        left = sort(left)            # 再帰でleftを分割\n",
    "    if right:\n",
    "        right = sort(right)          # 再帰でrightを分割\n",
    "    return left + middle + right     # 順番に部分列を結合させて，戻り値にする"
   ]
  },
  {
   "cell_type": "markdown",
   "metadata": {},
   "source": [
    "【例】関数sort()でのデータ変更"
   ]
  },
  {
   "cell_type": "code",
   "execution_count": 18,
   "metadata": {},
   "outputs": [
    {
     "name": "stdout",
     "output_type": "stream",
     "text": [
      "[1, 1, 2, 2, 3, 4, 5]\n"
     ]
    }
   ],
   "source": [
    "data = [1, 3, 2, 5, 4, 2, 1]\n",
    "data = sort(data)\n",
    "print(data)"
   ]
  },
  {
   "cell_type": "markdown",
   "metadata": {},
   "source": [
    "【例】再帰を用いてマージソートを行う関数sort()"
   ]
  },
  {
   "cell_type": "code",
   "execution_count": 19,
   "metadata": {},
   "outputs": [],
   "source": [
    "def sort(data):\n",
    "    if len(data) <= 1:                # 長さが1以下の場合は分割できないので終了\n",
    "        return data\n",
    "\n",
    "    # 分割操作\n",
    "    mid = len(data) // 2              # 真ん中を計算\n",
    "    left = sort(data[:mid])           # 再帰で前半を分割してleftに\n",
    "    right = sort(data[mid:])          # 再帰で後半を分割してrightに\n",
    "    \n",
    "    # 統合操作\n",
    "    merge, l, r = [], 0, 0            # margeに統合\n",
    "    while l < len(left) and r < len(right):   # leftとrightの両方に要素がある場合\n",
    "        if left[l] <= right[r]:       # 左側≦右側の場合\n",
    "            merge.append(left[l])     # 左側をmergeに加える\n",
    "            l += 1\n",
    "        else:                         # 左側＞右側の場合\n",
    "            merge.append(right[r])    # 右側をmergeに加える\n",
    "            r += 1\n",
    "    if l < len(left):                 # 左側が余った場合に残りを追加\n",
    "        merge.extend(left[l:])\n",
    "    elif r < len(right):              # 右側が余った場合に残りを追加\n",
    "        merge.extend(right[r:])\n",
    "    return merge    "
   ]
  },
  {
   "cell_type": "markdown",
   "metadata": {},
   "source": [
    "#### 5-2-4 グラフのアルゴリズム"
   ]
  },
  {
   "cell_type": "markdown",
   "metadata": {},
   "source": [
    "隣接リスト"
   ]
  },
  {
   "cell_type": "code",
   "execution_count": 20,
   "metadata": {},
   "outputs": [],
   "source": [
    "edge = [[1], [2, 3], [4, 5], [6, 7],\n",
    "        [], [], [], [8]]"
   ]
  },
  {
   "cell_type": "markdown",
   "metadata": {},
   "source": [
    "幅優先探索"
   ]
  },
  {
   "cell_type": "code",
   "execution_count": 21,
   "metadata": {},
   "outputs": [],
   "source": [
    "queue = deque()           # キューを作成\n",
    "queue.append(edge[0][0])  # 根を追加"
   ]
  },
  {
   "cell_type": "code",
   "execution_count": 22,
   "metadata": {},
   "outputs": [
    {
     "name": "stdout",
     "output_type": "stream",
     "text": [
      "1 2 3 4 5 6 7 8 "
     ]
    }
   ],
   "source": [
    "while len(queue) > 0:\n",
    "    i = queue.popleft()   # 先頭を取り出す\n",
    "    print(i, end=' ')\n",
    "    if i >= len(edge):    # 葉がない場合は飛ばす\n",
    "        continue\n",
    "    for j in edge[i]:     # 新たなノードを追加\n",
    "        queue.append(j)"
   ]
  },
  {
   "cell_type": "markdown",
   "metadata": {},
   "source": [
    "ノードの値と隣接リスト"
   ]
  },
  {
   "cell_type": "code",
   "execution_count": 23,
   "metadata": {},
   "outputs": [],
   "source": [
    "node = ['', '+', '×', '-', '6', '2', '3', '1']\n",
    "edge = [[1], [2, 3], [4, 5], [6, 7]]"
   ]
  },
  {
   "cell_type": "markdown",
   "metadata": {},
   "source": [
    "深さ優先探索（先行順）"
   ]
  },
  {
   "cell_type": "code",
   "execution_count": 24,
   "metadata": {},
   "outputs": [],
   "source": [
    "def deep_search(i):\n",
    "    print(node[i], end=' ')\n",
    "    if i < len(edge):              # 葉がない場合は飛ばす\n",
    "        deep_search(edge[i][0])    # 左部分木を探索\n",
    "    if i < len(edge) and len(edge[i]) == 2:\n",
    "        deep_search(edge[i][1])    # 右部分木を探索"
   ]
  },
  {
   "cell_type": "code",
   "execution_count": 25,
   "metadata": {},
   "outputs": [
    {
     "name": "stdout",
     "output_type": "stream",
     "text": [
      "+ × 6 2 - 3 1 "
     ]
    }
   ],
   "source": [
    "deep_search(edge[0][0])"
   ]
  },
  {
   "cell_type": "code",
   "execution_count": 26,
   "metadata": {},
   "outputs": [],
   "source": [
    "# 中間順\n",
    "def deep_search(i):\n",
    "    if i < len(edge):              # 葉がない場合は飛ばす\n",
    "        deep_search(edge[i][0])    # 左部分木を探索\n",
    "    print(node[i], end=' ')\n",
    "    if i < len(edge) and len(edge[i]) == 2:\n",
    "        deep_search(edge[i][1])    # 右部分木を探索"
   ]
  },
  {
   "cell_type": "code",
   "execution_count": 27,
   "metadata": {},
   "outputs": [],
   "source": [
    "# 後行順（逆ポーランド順）\n",
    "def deep_search(i):\n",
    "    if i < len(edge):              # 葉がない場合は飛ばす\n",
    "        deep_search(edge[i][0])    # 左部分木を探索\n",
    "    if i < len(edge) and len(edge[i]) == 2:\n",
    "        deep_search(edge[i][1])    # 右部分木を探索\n",
    "    print(node[i], end=' ')"
   ]
  },
  {
   "cell_type": "markdown",
   "metadata": {},
   "source": [
    "#### 5-2-5 さまざまなアルゴリズム\n",
    "文字列探索"
   ]
  },
  {
   "cell_type": "code",
   "execution_count": 28,
   "metadata": {},
   "outputs": [],
   "source": [
    "text = 'ACBBMACABABC'\n",
    "pattern = 'ACAB'"
   ]
  },
  {
   "cell_type": "code",
   "execution_count": 29,
   "metadata": {},
   "outputs": [],
   "source": [
    "# 単純な照合方法\n",
    "def search1(text, pattern):\n",
    "    for i in range(len(text)):\n",
    "        for j in range(len(pattern)):\n",
    "            if text[i+j] == pattern[j]:\n",
    "                if j == len(pattern) - 1:\n",
    "                    return i\n",
    "            else:\n",
    "                break\n",
    "    return -1"
   ]
  },
  {
   "cell_type": "code",
   "execution_count": 30,
   "metadata": {},
   "outputs": [
    {
     "data": {
      "text/plain": [
       "5"
      ]
     },
     "execution_count": 30,
     "metadata": {},
     "output_type": "execute_result"
    }
   ],
   "source": [
    "search1(text, pattern)"
   ]
  },
  {
   "cell_type": "markdown",
   "metadata": {},
   "source": [
    "※2021.8.21修正（正誤表に掲載）　BM法 関数 def search2()\n",
    "* 3行目 for i, character in enumerate(pattern): -> for i, character in enumerate(pattern**[:-1]**)\n",
    "* 4行目 skip_dic[character] = len(pattern) - i -> skip_dic[character] = len(pattern) - i **- 1**\n",
    "* 6行目 while i < len(text) - len(pattern) -> while i < len(text) - len(pattern) **+ 1**"
   ]
  },
  {
   "cell_type": "code",
   "execution_count": 31,
   "metadata": {},
   "outputs": [],
   "source": [
    "# BM法\n",
    "def search2(text, pattern):\n",
    "    skip_dic = dict()                              # スキップ数（辞書形式）の作成\n",
    "    for i, character in enumerate(pattern[:-1]):\n",
    "        skip_dic[character] = len(pattern) - i - 1\n",
    "    i = 0                                          # 文字の比較\n",
    "    while i < len(text) - len(pattern) + 1:        # 修正 + 1を追加（最後尾までチェック）\n",
    "        for j in range(len(pattern)):\n",
    "            if text[i+j] == pattern[j]:\n",
    "                if j == len(pattern) - 1:\n",
    "                    return i\n",
    "            else:\n",
    "                break\n",
    "        if text[i+len(pattern)-1] not in skip_dic:    # スキップ数の決定 修正\n",
    "            skip = len(pattern)\n",
    "        else:\n",
    "            skip = skip_dic[text[i+len(pattern)-1]]\n",
    "        i += skip\n",
    "    return -1"
   ]
  },
  {
   "cell_type": "code",
   "execution_count": 32,
   "metadata": {},
   "outputs": [
    {
     "data": {
      "text/plain": [
       "5"
      ]
     },
     "execution_count": 32,
     "metadata": {},
     "output_type": "execute_result"
    }
   ],
   "source": [
    "search2(text, pattern)"
   ]
  },
  {
   "cell_type": "markdown",
   "metadata": {},
   "source": [
    "#### 5-2-6 演習問題"
   ]
  },
  {
   "cell_type": "markdown",
   "metadata": {},
   "source": [
    "問3"
   ]
  },
  {
   "cell_type": "code",
   "execution_count": 33,
   "metadata": {},
   "outputs": [],
   "source": [
    "# 初期状態のスタックA,B,C\n",
    "A = [1, 2, 3]\n",
    "B = [1, 2, 3]\n",
    "C = [1, 2, 3]"
   ]
  },
  {
   "cell_type": "code",
   "execution_count": 34,
   "metadata": {},
   "outputs": [],
   "source": [
    "def f():\n",
    "    if not A:\n",
    "        pass\n",
    "    else:\n",
    "        C.append(A.pop())\n",
    "        f()\n",
    "        B.append(C.pop())"
   ]
  },
  {
   "cell_type": "code",
   "execution_count": 35,
   "metadata": {},
   "outputs": [
    {
     "name": "stdout",
     "output_type": "stream",
     "text": [
      "[] [1, 2, 3, 1, 2, 3] [1, 2, 3]\n"
     ]
    }
   ],
   "source": [
    "f()\n",
    "print(A, B, C)"
   ]
  },
  {
   "cell_type": "code",
   "execution_count": null,
   "metadata": {},
   "outputs": [],
   "source": []
  }
 ],
 "metadata": {
  "kernelspec": {
   "display_name": "Python 3",
   "language": "python",
   "name": "python3"
  },
  "language_info": {
   "codemirror_mode": {
    "name": "ipython",
    "version": 3
   },
   "file_extension": ".py",
   "mimetype": "text/x-python",
   "name": "python",
   "nbconvert_exporter": "python",
   "pygments_lexer": "ipython3",
   "version": "3.8.10"
  }
 },
 "nbformat": 4,
 "nbformat_minor": 2
}
