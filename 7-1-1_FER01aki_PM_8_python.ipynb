{
 "cells": [
  {
   "cell_type": "markdown",
   "metadata": {},
   "source": [
    "### 7-1-1 予想問題1  \n",
    "（令和元年秋 基本情報技術者試験 午後 問8（アルゴリズム）改）"
   ]
  },
  {
   "cell_type": "markdown",
   "metadata": {},
   "source": [
    "関数Indexを用意（問題文には記載なし）"
   ]
  },
  {
   "cell_type": "code",
   "execution_count": 1,
   "metadata": {},
   "outputs": [],
   "source": [
    "def Index(char):\n",
    "    alphabet = \"ABCDEFGHIJKLMNOPQRSTUVWXYZ\"\n",
    "    return alphabet.index(char[0]) + 1"
   ]
  },
  {
   "cell_type": "markdown",
   "metadata": {},
   "source": [
    "#### 〔プログラム1〕"
   ]
  },
  {
   "cell_type": "code",
   "execution_count": 2,
   "metadata": {},
   "outputs": [],
   "source": [
    "def GenerateBitMask(Pat, Mask):\n",
    "    PatLen = len(Pat)\n",
    "    for i in range(1, 27):\n",
    "        Mask[i] = 0b0         # 初期化\n",
    "    for i in range(1, PatLen):\n",
    "        Mask[Index(Pat[i])] = 0b1 << (i - 1) | Mask[Index(Pat[i])]\n",
    "    return PatLen"
   ]
  },
  {
   "cell_type": "markdown",
   "metadata": {},
   "source": [
    "図1の「対象文字列と検索文字列の格納例」の値を設定"
   ]
  },
  {
   "cell_type": "code",
   "execution_count": 3,
   "metadata": {},
   "outputs": [],
   "source": [
    "Mask = [0b0] * 27\n",
    "Text = \" AACBBAACABABAB\"\n",
    "Pat = \" ACABAB\""
   ]
  },
  {
   "cell_type": "markdown",
   "metadata": {},
   "source": [
    "図1の値でGenerateBitMaskを実行"
   ]
  },
  {
   "cell_type": "code",
   "execution_count": 4,
   "metadata": {},
   "outputs": [
    {
     "data": {
      "text/plain": [
       "7"
      ]
     },
     "execution_count": 4,
     "metadata": {},
     "output_type": "execute_result"
    }
   ],
   "source": [
    "GenerateBitMask(Pat, Mask)"
   ]
  },
  {
   "cell_type": "code",
   "execution_count": 5,
   "metadata": {},
   "outputs": [
    {
     "data": {
      "text/plain": [
       "40"
      ]
     },
     "execution_count": 5,
     "metadata": {},
     "output_type": "execute_result"
    }
   ],
   "source": [
    "Mask[Index(Pat[6])]"
   ]
  },
  {
   "cell_type": "markdown",
   "metadata": {},
   "source": [
    "図2　Maskの値を順に表示（2進数16桁に変換）"
   ]
  },
  {
   "cell_type": "code",
   "execution_count": 6,
   "metadata": {},
   "outputs": [
    {
     "name": "stdout",
     "output_type": "stream",
     "text": [
      "Mask[ 1] 0000000000010101\n",
      "Mask[ 2] 0000000000101000\n",
      "Mask[ 3] 0000000000000010\n",
      "Mask[ 4] 0000000000000000\n",
      "Mask[ 5] 0000000000000000\n",
      "Mask[ 6] 0000000000000000\n",
      "Mask[ 7] 0000000000000000\n",
      "Mask[ 8] 0000000000000000\n",
      "Mask[ 9] 0000000000000000\n",
      "Mask[10] 0000000000000000\n",
      "Mask[11] 0000000000000000\n",
      "Mask[12] 0000000000000000\n",
      "Mask[13] 0000000000000000\n",
      "Mask[14] 0000000000000000\n",
      "Mask[15] 0000000000000000\n",
      "Mask[16] 0000000000000000\n",
      "Mask[17] 0000000000000000\n",
      "Mask[18] 0000000000000000\n",
      "Mask[19] 0000000000000000\n",
      "Mask[20] 0000000000000000\n",
      "Mask[21] 0000000000000000\n",
      "Mask[22] 0000000000000000\n",
      "Mask[23] 0000000000000000\n",
      "Mask[24] 0000000000000000\n",
      "Mask[25] 0000000000000000\n",
      "Mask[26] 0000000000000000\n"
     ]
    }
   ],
   "source": [
    "for i in range(1, 27):\n",
    "    print('Mask[{:2d}] {:016b}'.format(i, Mask[i]))"
   ]
  },
  {
   "cell_type": "markdown",
   "metadata": {},
   "source": [
    "#### 〔プログラム2〕"
   ]
  },
  {
   "cell_type": "code",
   "execution_count": 7,
   "metadata": {},
   "outputs": [],
   "source": [
    "def BitapMatch(Text, Pat):\n",
    "    TextLen = len(Text)\n",
    "    PatLen = GenerateBitMask(Pat, Mask)\n",
    "    Status = 0b0\n",
    "    Goal = 0b1 << (PatLen - 2)\n",
    "    for i in range(1, TextLen):\n",
    "        Status = Status << 1 | 0b1              # ← α\n",
    "        Status = Status & Mask[Index(Text[i])]  # ← β\n",
    "        print(i, bin(Mask[Index(Text[i])]), bin(Status))  # βの後のデータを表示\n",
    "        if Status & Goal != 0b0:\n",
    "            return (i - PatLen + 2)\n",
    "    return -1"
   ]
  },
  {
   "cell_type": "code",
   "execution_count": 8,
   "metadata": {},
   "outputs": [
    {
     "name": "stdout",
     "output_type": "stream",
     "text": [
      "1 0b10101 0b1\n",
      "2 0b10101 0b1\n",
      "3 0b10 0b10\n",
      "4 0b101000 0b0\n",
      "5 0b101000 0b0\n",
      "6 0b10101 0b1\n",
      "7 0b10101 0b1\n",
      "8 0b10 0b10\n",
      "9 0b10101 0b101\n",
      "10 0b101000 0b1000\n",
      "11 0b10101 0b10001\n",
      "12 0b101000 0b100000\n"
     ]
    },
    {
     "data": {
      "text/plain": [
       "7"
      ]
     },
     "execution_count": 8,
     "metadata": {},
     "output_type": "execute_result"
    }
   ],
   "source": [
    "BitapMatch(Text, Pat)"
   ]
  },
  {
   "cell_type": "markdown",
   "metadata": {},
   "source": [
    "#### 〔プログラム3〕"
   ]
  },
  {
   "cell_type": "code",
   "execution_count": 9,
   "metadata": {},
   "outputs": [],
   "source": [
    "def GenerateBitMaskRegex(Pat, Mask):\n",
    "    OriginalPatLen = len(Pat)\n",
    "    PatLen = 0\n",
    "    Mode = 0\n",
    "    for i in range(1, 27):\n",
    "        Mask[i] = 0b0          # 初期化\n",
    "    for i in range(1, OriginalPatLen):\n",
    "        if Pat[i] == \"[\":\n",
    "            Mode = 1\n",
    "            PatLen = PatLen + 1\n",
    "        elif Pat[i] == \"]\":\n",
    "            Mode = 0\n",
    "        else:\n",
    "            if Mode == 0:\n",
    "                PatLen += 1\n",
    "            Mask[Index(Pat[i])] = 0b1 << (PatLen - 1) | Mask[Index(Pat[i])]\n",
    "    return PatLen "
   ]
  },
  {
   "cell_type": "markdown",
   "metadata": {},
   "source": [
    "設問3の値を設定"
   ]
  },
  {
   "cell_type": "code",
   "execution_count": 10,
   "metadata": {},
   "outputs": [],
   "source": [
    "Pat = \" AC[BA]A[ABC]A\""
   ]
  },
  {
   "cell_type": "code",
   "execution_count": 11,
   "metadata": {},
   "outputs": [
    {
     "data": {
      "text/plain": [
       "6"
      ]
     },
     "execution_count": 11,
     "metadata": {},
     "output_type": "execute_result"
    }
   ],
   "source": [
    "GenerateBitMaskRegex(Pat, Mask)"
   ]
  },
  {
   "cell_type": "code",
   "execution_count": 12,
   "metadata": {},
   "outputs": [
    {
     "data": {
      "text/plain": [
       "'0b111101'"
      ]
     },
     "execution_count": 12,
     "metadata": {},
     "output_type": "execute_result"
    }
   ],
   "source": [
    "bin(Mask[1])"
   ]
  },
  {
   "cell_type": "code",
   "execution_count": null,
   "metadata": {},
   "outputs": [],
   "source": []
  }
 ],
 "metadata": {
  "kernelspec": {
   "display_name": "Python 3",
   "language": "python",
   "name": "python3"
  },
  "language_info": {
   "codemirror_mode": {
    "name": "ipython",
    "version": 3
   },
   "file_extension": ".py",
   "mimetype": "text/x-python",
   "name": "python",
   "nbconvert_exporter": "python",
   "pygments_lexer": "ipython3",
   "version": "3.8.5"
  }
 },
 "nbformat": 4,
 "nbformat_minor": 2
}
