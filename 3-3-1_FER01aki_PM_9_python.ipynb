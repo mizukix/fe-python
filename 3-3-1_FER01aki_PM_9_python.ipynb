{
 "cells": [
  {
   "cell_type": "markdown",
   "metadata": {},
   "source": [
    "### 3-3-1 関数問題  \n",
    "（令和元年秋 基本情報技術者試験 午後 問9（C）改）"
   ]
  },
  {
   "cell_type": "markdown",
   "metadata": {},
   "source": [
    "#### 〔プログラム〕"
   ]
  },
  {
   "cell_type": "code",
   "execution_count": 1,
   "metadata": {},
   "outputs": [],
   "source": [
    "WIDTH = 60    # 行当たり表示バイト数\n",
    "MASKCHR = '.' # 16進数表示で20～7E以外の場合の表示用文字"
   ]
  },
  {
   "cell_type": "code",
   "execution_count": 2,
   "metadata": {},
   "outputs": [],
   "source": [
    "def dump(filename, from_byte, to_byte):\n",
    "    pos, cnt = 0, 0\n",
    "    hex_char = \"0123456789ABCDEF\"\n",
    "    \n",
    "    tblC = tblH = tblL = ''\n",
    "    for c in range(0xFF):\n",
    "        if 0x20 <= c and c <= 0x7E:\n",
    "             tblC += chr(c)\n",
    "        else:\n",
    "             tblC += MASKCHR\n",
    "        tblH += hex_char[c >> 4]\n",
    "        tblL += hex_char[c & 0x0F]\n",
    "\n",
    "    infile = open(filename, \"rb\")\n",
    "    \n",
    "    bufC = bufH = bufL = ''\n",
    "    while True:\n",
    "        ch = infile.read(1)\n",
    "        if len(ch) > 0 and (to_byte < 0 or cnt <= to_byte):\n",
    "            cnt += 1\n",
    "        else:\n",
    "            break\n",
    "        if cnt > from_byte:\n",
    "            ch_int = ord(ch.decode())  # chの文字コードを取得\n",
    "            bufC += tblC[ch_int]\n",
    "            bufH += tblH[ch_int]\n",
    "            bufL += tblL[ch_int]\n",
    "            pos += 1\n",
    "            if pos == WIDTH:\n",
    "                print(\"{0:10d}  {1:s}\\n{2:12s}{3:s}\\n{4:12s}{5:s}\\n\".format(cnt - WIDTH, bufC, \" \", bufH, \" \", bufL))\n",
    "                bufC = bufH = bufL = ''\n",
    "                pos = 0\n",
    "\n",
    "    if pos > 0:\n",
    "        print(\"{0:10d}  {1:s}\\n{2:12s}{3:s}\\n{4:12s}{5:s}\\n\".format(\n",
    "            cnt - pos, bufC, \" \", bufH, \" \", bufL))\n",
    "\n",
    "    if len(ch) == 0:\n",
    "        print(\"END OF DATA ... {0:d} byte(s)\\n\".format(cnt - from_byte))\n",
    "    else:\n",
    "        print(\"END OF DUMP ... {0:d} byte(s)\\n\".format(cnt - from_byte))\n",
    "                              \n",
    "    infile.close()"
   ]
  },
  {
   "cell_type": "markdown",
   "metadata": {},
   "source": [
    "#### テスト：図2　図1の入力ファイルの先頭から末尾までの表示例"
   ]
  },
  {
   "cell_type": "code",
   "execution_count": 3,
   "metadata": {},
   "outputs": [
    {
     "name": "stdout",
     "output_type": "stream",
     "text": [
      "         0  int main() {..   /* for testing dump() */..   dump(\"main.c\",\n",
      "            667266662227002222226672767766626767222220022267672266662622\n",
      "            9E40D19E890BDA000FA06F2045349E7045D0890AFDA00045D082D19EE32C\n",
      "\n",
      "        60   0L, -1L);..   dump(\"main.c\", 17L, 40L);..}..\n",
      "            234222342300222676722666626222334223342300700\n",
      "            00CC0D1C9BDA00045D082D19EE32C017CC040C9BDADDA\n",
      "\n",
      "END OF DATA ... 105 byte(s)\n",
      "\n"
     ]
    }
   ],
   "source": [
    "dump(\"main.c\", 0, -1)"
   ]
  },
  {
   "cell_type": "markdown",
   "metadata": {},
   "source": [
    "#### テスト：図3　図1の入力ファイルのバイト位置17から40までの表示例"
   ]
  },
  {
   "cell_type": "code",
   "execution_count": 4,
   "metadata": {},
   "outputs": [
    {
     "name": "stdout",
     "output_type": "stream",
     "text": [
      "        17  /* for testing dump() */\n",
      "            222667276776662676722222\n",
      "            FA06F2045349E7045D0890AF\n",
      "\n",
      "END OF DUMP ... 24 byte(s)\n",
      "\n"
     ]
    }
   ],
   "source": [
    "# for testing dump()\n",
    "\n",
    "dump(\"main.c\", 17, 40)"
   ]
  },
  {
   "cell_type": "markdown",
   "metadata": {},
   "source": [
    "#### テスト：設問2　〔ケース1〕ファイルサイズ=100, from_byte=99, to_byte=99"
   ]
  },
  {
   "cell_type": "code",
   "execution_count": 5,
   "metadata": {
    "scrolled": true
   },
   "outputs": [
    {
     "name": "stdout",
     "output_type": "stream",
     "text": [
      "        99  .\n",
      "            0\n",
      "            A\n",
      "\n",
      "END OF DATA ... 1 byte(s)\n",
      "\n"
     ]
    }
   ],
   "source": [
    "dump(\"main100.c\", 99, 99)"
   ]
  },
  {
   "cell_type": "markdown",
   "metadata": {},
   "source": [
    "#### テスト：設問2　〔ケース2〕ファイルサイズ=0, from_byte=0, to_byte<0"
   ]
  },
  {
   "cell_type": "code",
   "execution_count": 6,
   "metadata": {},
   "outputs": [
    {
     "name": "stdout",
     "output_type": "stream",
     "text": [
      "END OF DATA ... 0 byte(s)\n",
      "\n"
     ]
    }
   ],
   "source": [
    "dump(\"main0.c\", 0, -1)"
   ]
  },
  {
   "cell_type": "code",
   "execution_count": null,
   "metadata": {},
   "outputs": [],
   "source": []
  }
 ],
 "metadata": {
  "kernelspec": {
   "display_name": "Python 3",
   "language": "python",
   "name": "python3"
  },
  "language_info": {
   "codemirror_mode": {
    "name": "ipython",
    "version": 3
   },
   "file_extension": ".py",
   "mimetype": "text/x-python",
   "name": "python",
   "nbconvert_exporter": "python",
   "pygments_lexer": "ipython3",
   "version": "3.8.5"
  }
 },
 "nbformat": 4,
 "nbformat_minor": 2
}
