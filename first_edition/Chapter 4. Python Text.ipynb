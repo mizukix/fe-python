{
 "cells": [
  {
   "cell_type": "markdown",
   "metadata": {},
   "source": [
    "### Python教科書　4章プログラム例"
   ]
  },
  {
   "cell_type": "markdown",
   "metadata": {},
   "source": [
    "#### 4-1-1 オブジェクト指向"
   ]
  },
  {
   "cell_type": "markdown",
   "metadata": {},
   "source": [
    "【例】クラスDogの定義"
   ]
  },
  {
   "cell_type": "code",
   "execution_count": 1,
   "metadata": {},
   "outputs": [],
   "source": [
    "class Dog:\n",
    "    def cry(self):\n",
    "        print('ワン')"
   ]
  },
  {
   "cell_type": "markdown",
   "metadata": {},
   "source": [
    "【例】クラスDogからインスタンスpochiとshiroを生成"
   ]
  },
  {
   "cell_type": "code",
   "execution_count": 2,
   "metadata": {},
   "outputs": [],
   "source": [
    "pochi = Dog()\n",
    "shiro = Dog()"
   ]
  },
  {
   "cell_type": "markdown",
   "metadata": {},
   "source": [
    "【例】クラスDogで生成したインスタンスでメソッドcry()を実行"
   ]
  },
  {
   "cell_type": "code",
   "execution_count": 3,
   "metadata": {},
   "outputs": [
    {
     "name": "stdout",
     "output_type": "stream",
     "text": [
      "ワン\n"
     ]
    }
   ],
   "source": [
    "pochi.cry()"
   ]
  },
  {
   "cell_type": "code",
   "execution_count": 4,
   "metadata": {},
   "outputs": [
    {
     "name": "stdout",
     "output_type": "stream",
     "text": [
      "ワン\n"
     ]
    }
   ],
   "source": [
    "shiro.cry()"
   ]
  },
  {
   "cell_type": "markdown",
   "metadata": {},
   "source": [
    "【例】クラスDogを継承してサブクラスShibaInuを定義"
   ]
  },
  {
   "cell_type": "code",
   "execution_count": 5,
   "metadata": {},
   "outputs": [],
   "source": [
    "class ShibaInu(Dog):  # クラスDogを継承してサブクラスShibaInuを定義\n",
    "    def wait(self):   # 新たなメソッドwait()を定義\n",
    "        print('待つ')"
   ]
  },
  {
   "cell_type": "markdown",
   "metadata": {},
   "source": [
    "【例】クラスShibaInuのインスタンスを作成"
   ]
  },
  {
   "cell_type": "code",
   "execution_count": 6,
   "metadata": {},
   "outputs": [
    {
     "name": "stdout",
     "output_type": "stream",
     "text": [
      "待つ\n"
     ]
    }
   ],
   "source": [
    "hachi = ShibaInu()\n",
    "hachi.wait()"
   ]
  },
  {
   "cell_type": "markdown",
   "metadata": {},
   "source": [
    "【例】クラスDogのメソッドを実行"
   ]
  },
  {
   "cell_type": "code",
   "execution_count": 7,
   "metadata": {},
   "outputs": [
    {
     "name": "stdout",
     "output_type": "stream",
     "text": [
      "ワン\n"
     ]
    }
   ],
   "source": [
    "hachi.cry()"
   ]
  },
  {
   "cell_type": "markdown",
   "metadata": {},
   "source": [
    "【例】標準ライブラリabcを利用した抽象クラスの作成"
   ]
  },
  {
   "cell_type": "code",
   "execution_count": 8,
   "metadata": {},
   "outputs": [],
   "source": [
    "# ポリモーフィズムのための標準ライブラリabcからインポート\n",
    "from abc import ABCMeta, abstractmethod \n",
    "\n",
    "# 元となる動物クラス\n",
    "class Animal(metaclass = ABCMeta):  # 抽象クラス ABCMeta を利用\n",
    "    @abstractmethod    # インポートした抽象メソッドabstractmethodを使用\n",
    "    def cry(self):     # 抽象メソッドcry()を定義\n",
    "        pass           # 何もしない\n",
    "\n",
    "# クラスDog\n",
    "class Dog(Animal):     # Animalクラスを継承\n",
    "    def cry(self):     # 犬の鳴き方でcry()をオーバライド \n",
    "        print('ワン')\n",
    "\n",
    "# クラスCat\n",
    "class Cat(Animal):     # Animalクラスを継承\n",
    "    def cry(self):     # 猫の鳴き方でcry()をオーバライド \n",
    "        print('ニャー')"
   ]
  },
  {
   "cell_type": "markdown",
   "metadata": {},
   "source": [
    "【例】継承クラスでメソッドを実行"
   ]
  },
  {
   "cell_type": "code",
   "execution_count": 9,
   "metadata": {},
   "outputs": [
    {
     "name": "stdout",
     "output_type": "stream",
     "text": [
      "ワン\n"
     ]
    }
   ],
   "source": [
    "pochi = Dog()\n",
    "tama = Cat()\n",
    "\n",
    "pochi.cry()"
   ]
  },
  {
   "cell_type": "code",
   "execution_count": 10,
   "metadata": {},
   "outputs": [
    {
     "name": "stdout",
     "output_type": "stream",
     "text": [
      "ニャー\n"
     ]
    }
   ],
   "source": [
    "tama.cry()"
   ]
  },
  {
   "cell_type": "markdown",
   "metadata": {},
   "source": [
    "【例】メソッド__init__()による変数の初期設定"
   ]
  },
  {
   "cell_type": "code",
   "execution_count": 11,
   "metadata": {},
   "outputs": [],
   "source": [
    "class Dog:\n",
    "    def __init__(self, name, weight):  # 初期設定する特殊メソッド__init__\n",
    "        self.name = name               # self.nameは通常のインスタンス変数\n",
    "        self.__weight = weight         # self.__weightはプライベート変数"
   ]
  },
  {
   "cell_type": "markdown",
   "metadata": {},
   "source": [
    "【例】プライベート変数の定義後にインスタンスを生成"
   ]
  },
  {
   "cell_type": "code",
   "execution_count": 12,
   "metadata": {},
   "outputs": [
    {
     "name": "stdout",
     "output_type": "stream",
     "text": [
      "ポチ\n"
     ]
    }
   ],
   "source": [
    "pochi = Dog('ポチ', 20)    # nameに'ポチ'，weightに20を設定\n",
    "print(pochi.name)"
   ]
  },
  {
   "cell_type": "markdown",
   "metadata": {},
   "source": [
    "【例】プライベート変数の表示（エラー）"
   ]
  },
  {
   "cell_type": "code",
   "execution_count": 13,
   "metadata": {},
   "outputs": [
    {
     "ename": "AttributeError",
     "evalue": "'Dog' object has no attribute '__weight'",
     "output_type": "error",
     "traceback": [
      "\u001b[1;31m---------------------------------------------------------------------------\u001b[0m",
      "\u001b[1;31mAttributeError\u001b[0m                            Traceback (most recent call last)",
      "\u001b[1;32m<ipython-input-13-32172e5fe8fc>\u001b[0m in \u001b[0;36m<module>\u001b[1;34m\u001b[0m\n\u001b[1;32m----> 1\u001b[1;33m \u001b[0mprint\u001b[0m\u001b[1;33m(\u001b[0m\u001b[0mpochi\u001b[0m\u001b[1;33m.\u001b[0m\u001b[0m__weight\u001b[0m\u001b[1;33m)\u001b[0m\u001b[1;33m\u001b[0m\u001b[1;33m\u001b[0m\u001b[0m\n\u001b[0m",
      "\u001b[1;31mAttributeError\u001b[0m: 'Dog' object has no attribute '__weight'"
     ]
    }
   ],
   "source": [
    "print(pochi.__weight)"
   ]
  },
  {
   "cell_type": "markdown",
   "metadata": {},
   "source": [
    "【例】プライベート変数へのアクセスのためにメソッドを定義"
   ]
  },
  {
   "cell_type": "code",
   "execution_count": 14,
   "metadata": {},
   "outputs": [],
   "source": [
    "class Dog:\n",
    "    def __init__(self, name, weight):\n",
    "        self.name = name                              \n",
    "        self.__weight = weight         # __weightはプライベート変数\n",
    "        \n",
    "    def getWeight(self):               # __weightのゲッター\n",
    "        return self.__weight           # __weightの値を返却\n",
    "    \n",
    "    def setWeight(self, weight):       # __weightのセッター\n",
    "        self.__weight = weight         # __weightに値を設定"
   ]
  },
  {
   "cell_type": "markdown",
   "metadata": {},
   "source": [
    "【例】ゲッターによる値の取得"
   ]
  },
  {
   "cell_type": "code",
   "execution_count": 15,
   "metadata": {},
   "outputs": [
    {
     "name": "stdout",
     "output_type": "stream",
     "text": [
      "20\n"
     ]
    }
   ],
   "source": [
    "pochi = Dog('ポチ', 20)    # nameに'ポチ'，__weightに20を設定\n",
    "print(pochi.getWeight())   # ゲッターで，__weightの値を取得して表示"
   ]
  },
  {
   "cell_type": "markdown",
   "metadata": {},
   "source": [
    "【例】セッターによる値の設定"
   ]
  },
  {
   "cell_type": "code",
   "execution_count": 16,
   "metadata": {},
   "outputs": [
    {
     "name": "stdout",
     "output_type": "stream",
     "text": [
      "25\n"
     ]
    }
   ],
   "source": [
    "pochi.setWeight(25)        # セッターで，__weightに25を設定\n",
    "print(pochi.getWeight())   # ゲッターで，__weightの値を取得して表示"
   ]
  },
  {
   "cell_type": "markdown",
   "metadata": {},
   "source": [
    "【例】クラスPersonとクラスDogを定義"
   ]
  },
  {
   "cell_type": "code",
   "execution_count": 17,
   "metadata": {},
   "outputs": [],
   "source": [
    "class Person:                           # 人間クラス\n",
    "    def __init__(self, name):\n",
    "        self.name = name\n",
    "    def hello(self):                    # hello()メソッド\n",
    "        print('こんにちは')             # 実際に挨拶をするのは人間\n",
    "\n",
    "class Dog:\n",
    "    def __init__(self, name, owner):\n",
    "        self.name = name\n",
    "        self.owner = owner              # ownerに，人間クラスのインスタンスを設定\n",
    "    def hello(self):                    # hello()メソッド\n",
    "        self.owner.hello()              # ownerに，hello()メソッドの実行を委譲        "
   ]
  },
  {
   "cell_type": "markdown",
   "metadata": {},
   "source": [
    "【例】クラスPersonのインスタンスkenをクラスDogのオーナーに設定"
   ]
  },
  {
   "cell_type": "code",
   "execution_count": 18,
   "metadata": {},
   "outputs": [],
   "source": [
    "ken = Person('けん')\n",
    "pochi = Dog('ポチ', ken)"
   ]
  },
  {
   "cell_type": "markdown",
   "metadata": {},
   "source": [
    "【例】インスタンスpochiのオーナーを出力"
   ]
  },
  {
   "cell_type": "code",
   "execution_count": 19,
   "metadata": {},
   "outputs": [
    {
     "name": "stdout",
     "output_type": "stream",
     "text": [
      "けん\n"
     ]
    }
   ],
   "source": [
    "print(pochi.owner.name)"
   ]
  },
  {
   "cell_type": "markdown",
   "metadata": {},
   "source": [
    "【例】クラスDogからクラスPersonへの処理の委譲"
   ]
  },
  {
   "cell_type": "code",
   "execution_count": 20,
   "metadata": {},
   "outputs": [
    {
     "name": "stdout",
     "output_type": "stream",
     "text": [
      "こんにちは\n"
     ]
    }
   ],
   "source": [
    "pochi.hello()"
   ]
  },
  {
   "cell_type": "markdown",
   "metadata": {},
   "source": [
    "#### 4-2-1 クラス"
   ]
  },
  {
   "cell_type": "markdown",
   "metadata": {},
   "source": [
    "【例】クラスの定義"
   ]
  },
  {
   "cell_type": "code",
   "execution_count": 21,
   "metadata": {},
   "outputs": [],
   "source": [
    "class Car:\n",
    "    kind = 'car'\n",
    "    def run(self):\n",
    "        print('Car is running.')"
   ]
  },
  {
   "cell_type": "markdown",
   "metadata": {},
   "source": [
    "【例】クラスCar の属性を参照"
   ]
  },
  {
   "cell_type": "code",
   "execution_count": 22,
   "metadata": {},
   "outputs": [
    {
     "data": {
      "text/plain": [
       "'car'"
      ]
     },
     "execution_count": 22,
     "metadata": {},
     "output_type": "execute_result"
    }
   ],
   "source": [
    "Car.kind"
   ]
  },
  {
   "cell_type": "markdown",
   "metadata": {},
   "source": [
    "【例】クラスCarでのインスタンス生成"
   ]
  },
  {
   "cell_type": "code",
   "execution_count": 23,
   "metadata": {},
   "outputs": [],
   "source": [
    "tesla = Car()"
   ]
  },
  {
   "cell_type": "markdown",
   "metadata": {},
   "source": [
    "【例】クラスCarでのメソッドの実行"
   ]
  },
  {
   "cell_type": "code",
   "execution_count": 24,
   "metadata": {},
   "outputs": [
    {
     "name": "stdout",
     "output_type": "stream",
     "text": [
      "Car is running.\n"
     ]
    }
   ],
   "source": [
    "tesla.run()"
   ]
  },
  {
   "cell_type": "markdown",
   "metadata": {},
   "source": [
    "【例】クラスCarで初期値に属性nameを定義"
   ]
  },
  {
   "cell_type": "code",
   "execution_count": 25,
   "metadata": {},
   "outputs": [],
   "source": [
    "class Car:\n",
    "    def __init__(self, name):\n",
    "        self.name = name"
   ]
  },
  {
   "cell_type": "markdown",
   "metadata": {},
   "source": [
    "【例】インスタンスtesla作成時に属性nameに値を設定"
   ]
  },
  {
   "cell_type": "code",
   "execution_count": 26,
   "metadata": {},
   "outputs": [],
   "source": [
    "tesla = Car('model 3')"
   ]
  },
  {
   "cell_type": "markdown",
   "metadata": {},
   "source": [
    "【例】インスタンスteslaの属性nameを表示"
   ]
  },
  {
   "cell_type": "code",
   "execution_count": 27,
   "metadata": {},
   "outputs": [
    {
     "name": "stdout",
     "output_type": "stream",
     "text": [
      "model 3\n"
     ]
    }
   ],
   "source": [
    "print(tesla.name)"
   ]
  },
  {
   "cell_type": "markdown",
   "metadata": {},
   "source": [
    "【例】クラスCarを継承してサブクラスTruckを定義"
   ]
  },
  {
   "cell_type": "code",
   "execution_count": 28,
   "metadata": {},
   "outputs": [],
   "source": [
    "class Truck(Car):\n",
    "    pass"
   ]
  },
  {
   "cell_type": "markdown",
   "metadata": {},
   "source": [
    "【例】スーパクラスCarを継承したサブクラスTruckの実行"
   ]
  },
  {
   "cell_type": "code",
   "execution_count": 29,
   "metadata": {},
   "outputs": [
    {
     "name": "stdout",
     "output_type": "stream",
     "text": [
      "Cyber Truck\n"
     ]
    }
   ],
   "source": [
    "cybertruck = Truck('Cyber Truck')\n",
    "print(cybertruck.name)"
   ]
  },
  {
   "cell_type": "markdown",
   "metadata": {},
   "source": [
    "【例】スーパクラスCarのメソッドをサブクラスTruckで上書き"
   ]
  },
  {
   "cell_type": "code",
   "execution_count": 30,
   "metadata": {},
   "outputs": [],
   "source": [
    "class Car:              # Carクラスを定義\n",
    "    def exclaim(self):  # メソッドexclaim()を定義\n",
    "        print('I am a car.')\n",
    "\n",
    "class Truck(Car):       # Carクラスを継承してTruckクラスを定義\n",
    "    def exclaim(self):  # メソッドexclaim()をオーバライド\n",
    "        print('I am a truck.')"
   ]
  },
  {
   "cell_type": "markdown",
   "metadata": {},
   "source": [
    "【例】スーパクラスCarとサブクラスTruckのインスタンスで同じメソッドを実行"
   ]
  },
  {
   "cell_type": "code",
   "execution_count": 31,
   "metadata": {},
   "outputs": [
    {
     "name": "stdout",
     "output_type": "stream",
     "text": [
      "I am a car.\n"
     ]
    }
   ],
   "source": [
    "tesla = Car()\n",
    "cybertruck = Truck()\n",
    "tesla.exclaim()"
   ]
  },
  {
   "cell_type": "code",
   "execution_count": 32,
   "metadata": {},
   "outputs": [
    {
     "name": "stdout",
     "output_type": "stream",
     "text": [
      "I am a truck.\n"
     ]
    }
   ],
   "source": [
    "cybertruck.exclaim()"
   ]
  },
  {
   "cell_type": "markdown",
   "metadata": {},
   "source": [
    "【例】サブクラスTruckにだけメソッドを追加"
   ]
  },
  {
   "cell_type": "code",
   "execution_count": 33,
   "metadata": {},
   "outputs": [],
   "source": [
    "class Car:\n",
    "    def exclaim(self):\n",
    "        print('I am a car.')\n",
    "\n",
    "class Truck(Car):\n",
    "    def exclaim(self):                # メソッドexclaim()をオーバライド\n",
    "        print('I am a truck.')\n",
    "    def baggage(self):                # 新しいメソッドbaggage()の追加\n",
    "        print('I can carry baggage.')"
   ]
  },
  {
   "cell_type": "markdown",
   "metadata": {},
   "source": [
    "【例】サブクラスTruckにインスタンスを生成して追加したメソッドを実行"
   ]
  },
  {
   "cell_type": "code",
   "execution_count": 34,
   "metadata": {},
   "outputs": [
    {
     "name": "stdout",
     "output_type": "stream",
     "text": [
      "I can carry baggage.\n"
     ]
    }
   ],
   "source": [
    "cybertruck = Truck()\n",
    "cybertruck.baggage()"
   ]
  },
  {
   "cell_type": "markdown",
   "metadata": {},
   "source": [
    "【例】スーパクラスCarのメソッドをサブクラスTruckで実行"
   ]
  },
  {
   "cell_type": "code",
   "execution_count": 35,
   "metadata": {},
   "outputs": [],
   "source": [
    "class Car:\n",
    "    def exclaim(self):\n",
    "        print('I am a car.')\n",
    "\n",
    "class Truck(Car):\n",
    "    def exclaim(self):\n",
    "        super().exclaim()            # スーパクラスのexclaim()を利用\n",
    "        print('I am a truck.')"
   ]
  },
  {
   "cell_type": "markdown",
   "metadata": {},
   "source": [
    "【例】クラスTruckのインスタンスを生成してメソッドを実行"
   ]
  },
  {
   "cell_type": "code",
   "execution_count": 36,
   "metadata": {},
   "outputs": [
    {
     "name": "stdout",
     "output_type": "stream",
     "text": [
      "I am a car.\n",
      "I am a truck.\n"
     ]
    }
   ],
   "source": [
    "cybertruck = Truck()\n",
    "cybertruck.exclaim()"
   ]
  },
  {
   "cell_type": "markdown",
   "metadata": {},
   "source": [
    "#### 4-2-2 クラスの応用"
   ]
  },
  {
   "cell_type": "markdown",
   "metadata": {},
   "source": [
    "【例】インスタンス変数とクラス変数の作成"
   ]
  },
  {
   "cell_type": "code",
   "execution_count": 37,
   "metadata": {},
   "outputs": [],
   "source": [
    "class Dog:\n",
    "    count = 0              # countはクラス変数\n",
    "    def __init__(self, name):\n",
    "        self.name = name   # nameはインスタンス変数\n",
    "        Dog.count += 1     # インスタンス作成ごとに，countに1を加える"
   ]
  },
  {
   "cell_type": "markdown",
   "metadata": {},
   "source": [
    "【例】複数のインスタンスでインスタンス変数とクラス変数を表示"
   ]
  },
  {
   "cell_type": "code",
   "execution_count": 38,
   "metadata": {},
   "outputs": [
    {
     "name": "stdout",
     "output_type": "stream",
     "text": [
      "犬の名前: ポチ シロ ハチ\n",
      "犬の数  : 3\n"
     ]
    }
   ],
   "source": [
    "pochi = Dog('ポチ')\n",
    "shiro = Dog('シロ')\n",
    "hachi = Dog('ハチ')\n",
    "print('犬の名前:', pochi.name, shiro.name, hachi.name)\n",
    "print('犬の数  :', Dog.count)"
   ]
  },
  {
   "cell_type": "markdown",
   "metadata": {},
   "source": [
    "【例】クラス変数countの内容を表示するクラスメソッドdisplay()を追加"
   ]
  },
  {
   "cell_type": "code",
   "execution_count": 39,
   "metadata": {},
   "outputs": [],
   "source": [
    "class Dog:\n",
    "    count = 0              # countはクラス変数\n",
    "    def __init__(self, name):\n",
    "        self.name = name   # nameはインスタンス変数\n",
    "        Dog.count += 1     # インスタンス作成ごとに，countに1を加える\n",
    "    @classmethod           # クラスメソッドを示すデコレータ\n",
    "    def display(cls):      # クラスメソッド。clsはクラス自体を指す\n",
    "        print('Dogクラスには，犬が', cls.count, '匹います。')"
   ]
  },
  {
   "cell_type": "markdown",
   "metadata": {},
   "source": [
    "【例】複数のインスタンスを作成してからクラスメソッドを実行"
   ]
  },
  {
   "cell_type": "code",
   "execution_count": 40,
   "metadata": {},
   "outputs": [
    {
     "name": "stdout",
     "output_type": "stream",
     "text": [
      "Dogクラスには，犬が 3 匹います。\n"
     ]
    }
   ],
   "source": [
    "pochi = Dog('ポチ')\n",
    "shiro = Dog('シロ')\n",
    "hachi = Dog('ハチ')\n",
    "Dog.display()"
   ]
  },
  {
   "cell_type": "markdown",
   "metadata": {},
   "source": [
    "【例】クラスDogで作成したインスタンスを表示（デフォルト）"
   ]
  },
  {
   "cell_type": "code",
   "execution_count": 41,
   "metadata": {},
   "outputs": [
    {
     "name": "stdout",
     "output_type": "stream",
     "text": [
      "<__main__.Dog object at 0x000001C1D3A3C160>\n"
     ]
    }
   ],
   "source": [
    "pochi = Dog('ポチ')\n",
    "print(pochi)"
   ]
  },
  {
   "cell_type": "markdown",
   "metadata": {},
   "source": [
    "【例】__repr__()による表示方法の定義"
   ]
  },
  {
   "cell_type": "code",
   "execution_count": 42,
   "metadata": {},
   "outputs": [],
   "source": [
    "class Dog:\n",
    "    def __init__(self, name):\n",
    "        self.name = name\n",
    "    def __repr__(self):        # オブジェクトの表現方法を指定\n",
    "        return 'Dog object ' + self.name"
   ]
  },
  {
   "cell_type": "markdown",
   "metadata": {},
   "source": [
    "【例】クラスDogで作成したインスタンスを表示（__repr__()使用時）"
   ]
  },
  {
   "cell_type": "code",
   "execution_count": 43,
   "metadata": {},
   "outputs": [
    {
     "name": "stdout",
     "output_type": "stream",
     "text": [
      "Dog object ポチ\n"
     ]
    }
   ],
   "source": [
    "pochi = Dog('ポチ')\n",
    "print(pochi)"
   ]
  },
  {
   "cell_type": "markdown",
   "metadata": {},
   "source": [
    "【例】1週間を表すクラスWeek\n",
    "* enumは，Python3.4からの新機能です"
   ]
  },
  {
   "cell_type": "code",
   "execution_count": 44,
   "metadata": {},
   "outputs": [],
   "source": [
    "from enum import Enum\n",
    "\n",
    "class Week(Enum):\n",
    "    MONDAY = 1\n",
    "    TUESDAY = 2\n",
    "    WEDNESDAY = 3\n",
    "    THURSDAY = 4\n",
    "    FRIDAY = 5\n",
    "    SATURDAY = 6\n",
    "    SUNDAY = 7"
   ]
  },
  {
   "cell_type": "markdown",
   "metadata": {},
   "source": [
    "【例】クラスWeekに変数を設定"
   ]
  },
  {
   "cell_type": "code",
   "execution_count": 45,
   "metadata": {},
   "outputs": [
    {
     "name": "stdout",
     "output_type": "stream",
     "text": [
      "Week.SUNDAY\n"
     ]
    }
   ],
   "source": [
    "week_today = Week.SUNDAY\n",
    "print(week_today)"
   ]
  },
  {
   "cell_type": "markdown",
   "metadata": {},
   "source": [
    "【例】auto()を用いたクラスWeekの定義\n",
    "* auto()は，Python3.6からの新機能です"
   ]
  },
  {
   "cell_type": "code",
   "execution_count": 46,
   "metadata": {
    "scrolled": true
   },
   "outputs": [],
   "source": [
    "from enum import Enum, auto\n",
    "\n",
    "class Week(Enum):\n",
    "    MONDAY = auto()\n",
    "    TUESDAY = auto()\n",
    "    WEDNESDAY = auto()\n",
    "    THURSDAY = auto()\n",
    "    FRIDAY = auto()\n",
    "    SATURDAY = auto()\n",
    "    SUNDAY = auto()"
   ]
  },
  {
   "cell_type": "markdown",
   "metadata": {},
   "source": [
    "【例】クラスWeekに割り当てられた数字を表示"
   ]
  },
  {
   "cell_type": "code",
   "execution_count": 47,
   "metadata": {},
   "outputs": [
    {
     "name": "stdout",
     "output_type": "stream",
     "text": [
      "SUNDAY 7\n"
     ]
    }
   ],
   "source": [
    "print(Week.SUNDAY.name, Week.SUNDAY.value)"
   ]
  },
  {
   "cell_type": "markdown",
   "metadata": {},
   "source": [
    "#### 4-2-3 演習問題"
   ]
  },
  {
   "cell_type": "markdown",
   "metadata": {},
   "source": [
    "問1 インスタンスの作成"
   ]
  },
  {
   "cell_type": "code",
   "execution_count": 48,
   "metadata": {},
   "outputs": [
    {
     "name": "stdout",
     "output_type": "stream",
     "text": [
      "ベンノ\n",
      "マイン\n"
     ]
    }
   ],
   "source": [
    "class Student:\n",
    "    def __init__(self, teacher, mentor):\n",
    "        self.teacher = teacher\n",
    "        self.mentor = mentor\n",
    "\n",
    "luts = Student('マイン', 'ベンノ')\n",
    "print(luts.mentor)\n",
    "print(luts.teacher)"
   ]
  },
  {
   "cell_type": "markdown",
   "metadata": {},
   "source": [
    "問2 継承"
   ]
  },
  {
   "cell_type": "code",
   "execution_count": 49,
   "metadata": {},
   "outputs": [],
   "source": [
    "class Car:\n",
    "    def drive(self):\n",
    "        print('Car is driving')\n",
    "\n",
    "class Truck(Car):\n",
    "    def carry(self):\n",
    "        print('Truck is carrying')"
   ]
  },
  {
   "cell_type": "code",
   "execution_count": 50,
   "metadata": {},
   "outputs": [
    {
     "name": "stdout",
     "output_type": "stream",
     "text": [
      "Car is driving\n"
     ]
    }
   ],
   "source": [
    "cybertruck = Truck()\n",
    "cybertruck.drive()"
   ]
  },
  {
   "cell_type": "markdown",
   "metadata": {},
   "source": [
    "問3 クラス変数"
   ]
  },
  {
   "cell_type": "code",
   "execution_count": 51,
   "metadata": {},
   "outputs": [],
   "source": [
    "class Practice:\n",
    "    data_list = []\n",
    "    \n",
    "    def add_data_list(self, data):\n",
    "        self.data_list.append(data)"
   ]
  },
  {
   "cell_type": "code",
   "execution_count": 52,
   "metadata": {},
   "outputs": [],
   "source": [
    "practice1 = Practice()\n",
    "practice1.add_data_list(\"data 1\")\n",
    "\n",
    "practice2 = Practice()\n",
    "practice2.add_data_list(\"data 2\")"
   ]
  },
  {
   "cell_type": "code",
   "execution_count": 53,
   "metadata": {},
   "outputs": [
    {
     "name": "stdout",
     "output_type": "stream",
     "text": [
      "data_list: data 1 data 2 "
     ]
    }
   ],
   "source": [
    "print(\"data_list:\", end=\" \")\n",
    "for data in practice1.data_list:\n",
    "    print(data, end=\" \")"
   ]
  },
  {
   "cell_type": "code",
   "execution_count": 54,
   "metadata": {},
   "outputs": [
    {
     "data": {
      "text/plain": [
       "['data 1', 'data 2']"
      ]
     },
     "execution_count": 54,
     "metadata": {},
     "output_type": "execute_result"
    }
   ],
   "source": [
    "Practice.data_list"
   ]
  },
  {
   "cell_type": "code",
   "execution_count": null,
   "metadata": {},
   "outputs": [],
   "source": []
  }
 ],
 "metadata": {
  "kernelspec": {
   "display_name": "Python 3",
   "language": "python",
   "name": "python3"
  },
  "language_info": {
   "codemirror_mode": {
    "name": "ipython",
    "version": 3
   },
   "file_extension": ".py",
   "mimetype": "text/x-python",
   "name": "python",
   "nbconvert_exporter": "python",
   "pygments_lexer": "ipython3",
   "version": "3.7.3"
  }
 },
 "nbformat": 4,
 "nbformat_minor": 2
}
