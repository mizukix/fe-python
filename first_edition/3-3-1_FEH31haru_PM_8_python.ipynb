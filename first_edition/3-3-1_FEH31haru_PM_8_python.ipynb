{
 "cells": [
  {
   "cell_type": "markdown",
   "metadata": {},
   "source": [
    "### 3-3-1 アルゴリズム問題の演習\n",
    "（平成31年春 基本情報技術者試験 午後 問8改）"
   ]
  },
  {
   "cell_type": "markdown",
   "metadata": {},
   "source": [
    "#### プログラムの前段階で必要な準備\n",
    "関数Sort。オリジナル。挿入ソートで実現。変更可"
   ]
  },
  {
   "cell_type": "code",
   "execution_count": 1,
   "metadata": {},
   "outputs": [],
   "source": [
    "import copy\n",
    "\n",
    "def Sort(freq, nsize, node):\n",
    "    data = copy.copy(freq)  # freqの値を変えないようにコピーを作成\n",
    "    for i in range(0, nsize):\n",
    "        for j in range(i-1, -1, -1):\n",
    "            if data[j] > data[j+1]:\n",
    "                data[j], data[j+1] = data[j+1], data[j]\n",
    "                node[j], node[j+1] = node[j+1], node[j]\n",
    "            else:\n",
    "                break"
   ]
  },
  {
   "cell_type": "markdown",
   "metadata": {},
   "source": [
    "初期値の作成"
   ]
  },
  {
   "cell_type": "code",
   "execution_count": 2,
   "metadata": {},
   "outputs": [],
   "source": [
    "max_size = 10  # 配列の最大値\n",
    "\n",
    "parent = [-1] * max_size\n",
    "left = [-1] * max_size\n",
    "right = [-1] * max_size\n",
    "freq = [-1] * max_size"
   ]
  },
  {
   "cell_type": "markdown",
   "metadata": {},
   "source": [
    "#### 〔プログラム1〕"
   ]
  },
  {
   "cell_type": "code",
   "execution_count": 3,
   "metadata": {},
   "outputs": [],
   "source": [
    "def Huffman(size, parent, left, right, freq):\n",
    "    node = [-1] * max_size\n",
    "    nsize = SortNode(size, parent, freq, node)\n",
    "    while nsize >= 2:\n",
    "        i = node[0]          # 最も小さい値をもつ要素組の要素番号\n",
    "        j = node[1]          # 2番目に小さい値をもつ要素組の要素番号\n",
    "        left[size] = i\n",
    "        right[size] = j\n",
    "        freq[size] = freq[i] + freq[j]\n",
    "        parent[i] = size     # 子に親の節の要素番号を格納\n",
    "        parent[j] = size     # 子に親の節の要素番号を格納\n",
    "        size = size + 1\n",
    "        nsize = SortNode(size, parent, freq, node)\n",
    "    return size"
   ]
  },
  {
   "cell_type": "code",
   "execution_count": 4,
   "metadata": {},
   "outputs": [],
   "source": [
    "def SortNode(size, parent, freq, node):\n",
    "    nsize = 0\n",
    "    for i in range(size):\n",
    "        if parent[i] < 0:\n",
    "            node[nsize] = i\n",
    "            nsize = nsize + 1\n",
    "    Sort(freq, nsize, node)\n",
    "    return nsize"
   ]
  },
  {
   "cell_type": "markdown",
   "metadata": {},
   "source": [
    "#### 〔プログラム2〕"
   ]
  },
  {
   "cell_type": "code",
   "execution_count": 5,
   "metadata": {},
   "outputs": [],
   "source": [
    "def Encode(k, parent, left):\n",
    "    if parent[k] >= 0:\n",
    "        Encode(parent[k], parent, left)\n",
    "        if left[parent[k]] == k:\n",
    "            print(\"0\", end='')    # 0を表示する\n",
    "        else:\n",
    "            print(\"1\", end='')    # 1を表示する"
   ]
  },
  {
   "cell_type": "markdown",
   "metadata": {},
   "source": [
    "#### プログラムの実行\n",
    "図1の値を設定して実行"
   ]
  },
  {
   "cell_type": "code",
   "execution_count": 6,
   "metadata": {},
   "outputs": [],
   "source": [
    "size = 4\n",
    "freq[0:size] = [10, 2, 4, 3]"
   ]
  },
  {
   "cell_type": "code",
   "execution_count": 7,
   "metadata": {},
   "outputs": [],
   "source": [
    "size = Huffman(size, parent, left, right, freq)"
   ]
  },
  {
   "cell_type": "code",
   "execution_count": 8,
   "metadata": {},
   "outputs": [
    {
     "name": "stdout",
     "output_type": "stream",
     "text": [
      "7\n",
      "[6, 4, 5, 4, 5, 6, -1, -1, -1, -1]\n",
      "[-1, -1, -1, -1, 1, 2, 5, -1, -1, -1]\n",
      "[-1, -1, -1, -1, 3, 4, 0, -1, -1, -1]\n",
      "[10, 2, 4, 3, 5, 9, 19, -1, -1, -1]\n"
     ]
    }
   ],
   "source": [
    "print(size)\n",
    "print(parent)\n",
    "print(left)\n",
    "print(right)\n",
    "print(freq)"
   ]
  },
  {
   "cell_type": "code",
   "execution_count": 9,
   "metadata": {},
   "outputs": [
    {
     "name": "stdout",
     "output_type": "stream",
     "text": [
      "010"
     ]
    }
   ],
   "source": [
    "k = 1\n",
    "Encode(k, parent, left)"
   ]
  },
  {
   "cell_type": "code",
   "execution_count": null,
   "metadata": {},
   "outputs": [],
   "source": []
  }
 ],
 "metadata": {
  "kernelspec": {
   "display_name": "Python 3",
   "language": "python",
   "name": "python3"
  },
  "language_info": {
   "codemirror_mode": {
    "name": "ipython",
    "version": 3
   },
   "file_extension": ".py",
   "mimetype": "text/x-python",
   "name": "python",
   "nbconvert_exporter": "python",
   "pygments_lexer": "ipython3",
   "version": "3.7.3"
  }
 },
 "nbformat": 4,
 "nbformat_minor": 2
}
