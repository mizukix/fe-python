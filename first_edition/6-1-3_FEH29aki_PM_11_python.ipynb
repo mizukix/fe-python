{
 "cells": [
  {
   "cell_type": "markdown",
   "metadata": {},
   "source": [
    "### 6-1-3 予想問題3  \n",
    "（平成29年秋 基本情報技術者試験 午後問11（Java）改）"
   ]
  },
  {
   "cell_type": "markdown",
   "metadata": {},
   "source": [
    "#### 〔プログラム1〕"
   ]
  },
  {
   "cell_type": "code",
   "execution_count": 1,
   "metadata": {},
   "outputs": [],
   "source": [
    "class TableSorter:\n",
    "    def __init__(self):\n",
    "        self.orderMap = {}\n",
    "    \n",
    "    def putSortOrder(self, key, order):\n",
    "        self.orderMap[key] = order\n",
    "    \n",
    "    def sort(self, table, orderBys):\n",
    "        for orderBy in reversed(orderBys):\n",
    "            order = self.orderMap[orderBy.key]\n",
    "            table.sort(key=lambda x: order(x[orderBy.col]), reverse = orderBy.isReversed)\n",
    "    \n",
    "    class OrderBy:\n",
    "        def __init__(self, key, col, isReversed = False):\n",
    "            self.key = key\n",
    "            self.col = col\n",
    "            self.isReversed = isReversed        "
   ]
  },
  {
   "cell_type": "markdown",
   "metadata": {},
   "source": [
    "#### 〔プログラム2〕"
   ]
  },
  {
   "cell_type": "code",
   "execution_count": 23,
   "metadata": {},
   "outputs": [],
   "source": [
    "data = [[\"apple\", \"3\", \"1,000\"],\n",
    "        [\"cherry\", \"1\", \"1,000\"],\n",
    "        [\"banana\", \"1\", \"300\"],\n",
    "        [\"banana\", \"2\", \"2,000\"],\n",
    "        [\"apple\", \"2\", \"300\"]]\n",
    "sorter = TableSorter()\n",
    "\n",
    "def lex(obj):                   # 関数 \"lex\"を定義   \n",
    "    return str(obj)\n",
    "sorter.putSortOrder(\"lex\", lex) # ソート順\"lex\"を登録\n",
    "\n",
    "def num(obj):                   # 関数 \"num\"を定義\n",
    "    return int(obj)\n",
    "sorter.putSortOrder(\"num\", num) # ソート順\"num\"を登録"
   ]
  },
  {
   "cell_type": "code",
   "execution_count": 24,
   "metadata": {},
   "outputs": [],
   "source": [
    "sorter.sort(data, [TableSorter.OrderBy(\"lex\", 0), \n",
    "                   TableSorter.OrderBy(\"num\", 1, True)]) # ←　α"
   ]
  },
  {
   "cell_type": "code",
   "execution_count": 25,
   "metadata": {},
   "outputs": [
    {
     "name": "stdout",
     "output_type": "stream",
     "text": [
      "apple 3 1,000 \n",
      "apple 2 300 \n",
      "banana 2 2,000 \n",
      "banana 1 300 \n",
      "cherry 1 1,000 \n"
     ]
    }
   ],
   "source": [
    "for row in data:\n",
    "    for col in row:\n",
    "        print(col, end=\" \")\n",
    "    print()"
   ]
  },
  {
   "cell_type": "markdown",
   "metadata": {},
   "source": [
    "#### 設問2\n",
    "上のαの部分を下の行と置き換えて，〔プログラム2〕を実行"
   ]
  },
  {
   "cell_type": "code",
   "execution_count": 21,
   "metadata": {},
   "outputs": [],
   "source": [
    "sorter.sort(data, [TableSorter.OrderBy(\"lex\", 2), \n",
    "                   TableSorter.OrderBy(\"lex\", 0)])"
   ]
  },
  {
   "cell_type": "markdown",
   "metadata": {},
   "source": [
    "#### 設問3\n",
    "上のαの部分を下の行と置き換えて，〔プログラム2〕を実行"
   ]
  },
  {
   "cell_type": "code",
   "execution_count": 12,
   "metadata": {},
   "outputs": [],
   "source": [
    "def numC(obj):                    # 関数 \"numC\"を定義\n",
    "    return int(obj.replace(\",\", \"\"))\n",
    "sorter.putSortOrder(\"numC\", numC) # ソート順\"numC\"を登録\n",
    "sorter.sort(data, [TableSorter.OrderBy(\"numC\", 2), \n",
    "                   TableSorter.OrderBy(\"lex\", 0)])"
   ]
  },
  {
   "cell_type": "code",
   "execution_count": null,
   "metadata": {},
   "outputs": [],
   "source": []
  }
 ],
 "metadata": {
  "kernelspec": {
   "display_name": "Python 3",
   "language": "python",
   "name": "python3"
  },
  "language_info": {
   "codemirror_mode": {
    "name": "ipython",
    "version": 3
   },
   "file_extension": ".py",
   "mimetype": "text/x-python",
   "name": "python",
   "nbconvert_exporter": "python",
   "pygments_lexer": "ipython3",
   "version": "3.7.3"
  }
 },
 "nbformat": 4,
 "nbformat_minor": 2
}
