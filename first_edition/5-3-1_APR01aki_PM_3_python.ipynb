{
 "cells": [
  {
   "cell_type": "markdown",
   "metadata": {},
   "source": [
    "### 5-3-1 データサイエンス問題の演習  \n",
    "（令和元年秋 応用情報技術者試験 午後 問3（アルゴリズム）改）"
   ]
  },
  {
   "cell_type": "markdown",
   "metadata": {},
   "source": [
    "#### 図4　単純パーセプトロンのプログラム"
   ]
  },
  {
   "cell_type": "code",
   "execution_count": 1,
   "metadata": {},
   "outputs": [],
   "source": [
    "def simple_perceptron(X, Y):\n",
    "    for out in range(NC):\n",
    "        ytemp = BY\n",
    "        for inp in range(NI):\n",
    "            ytemp = ytemp + X[out][inp] * WY[inp]\n",
    "        if ytemp > 0:\n",
    "            Y[out] = 1\n",
    "        else:\n",
    "            Y[out] = 0"
   ]
  },
  {
   "cell_type": "markdown",
   "metadata": {},
   "source": [
    "図4を動かすために，初期値を設定"
   ]
  },
  {
   "cell_type": "code",
   "execution_count": 2,
   "metadata": {},
   "outputs": [],
   "source": [
    "NI = 2\n",
    "NC = 4\n",
    "X = [[0, 0], [0, 1], [1, 0], [1, 1]]\n",
    "Y = [0, 0, 0, 0] # 初期化"
   ]
  },
  {
   "cell_type": "markdown",
   "metadata": {},
   "source": [
    "単純パーセプトロンでのノードの演算式\n",
    "$$\n",
    "y = \n",
    "\\begin{cases}\n",
    " 0 \\quad （x1 \\times w1 + x2 \\times w2 + b \\leqq 0 の場合） \\\\\n",
    " 1 \\quad （x1 \\times w1 + x2 \\times w2 + b > 0 の場合） \\\\\n",
    "\\end{cases}\n",
    "$$"
   ]
  },
  {
   "cell_type": "markdown",
   "metadata": {},
   "source": [
    "表1の論理積の値を設定（空欄a）"
   ]
  },
  {
   "cell_type": "code",
   "execution_count": 3,
   "metadata": {},
   "outputs": [
    {
     "data": {
      "text/plain": [
       "[0, 0, 0, 1]"
      ]
     },
     "execution_count": 3,
     "metadata": {},
     "output_type": "execute_result"
    }
   ],
   "source": [
    "WY = [0.5, 0.5]\n",
    "BY = -0.7\n",
    "simple_perceptron(X, Y)\n",
    "Y"
   ]
  },
  {
   "cell_type": "markdown",
   "metadata": {},
   "source": [
    "表1の論理和の値を設定"
   ]
  },
  {
   "cell_type": "code",
   "execution_count": 4,
   "metadata": {},
   "outputs": [
    {
     "data": {
      "text/plain": [
       "[0, 1, 1, 1]"
      ]
     },
     "execution_count": 4,
     "metadata": {},
     "output_type": "execute_result"
    }
   ],
   "source": [
    "WY = [0.5, 0.5]\n",
    "BY = -0.2\n",
    "simple_perceptron(X, Y)\n",
    "Y"
   ]
  },
  {
   "cell_type": "markdown",
   "metadata": {},
   "source": [
    "表1の否定論理和の値を設定"
   ]
  },
  {
   "cell_type": "code",
   "execution_count": 5,
   "metadata": {},
   "outputs": [
    {
     "data": {
      "text/plain": [
       "[1, 1, 1, 0]"
      ]
     },
     "execution_count": 5,
     "metadata": {},
     "output_type": "execute_result"
    }
   ],
   "source": [
    "WY = [-0.5, -0.5]\n",
    "BY = 0.7\n",
    "simple_perceptron(X, Y)\n",
    "Y"
   ]
  },
  {
   "cell_type": "markdown",
   "metadata": {},
   "source": [
    "#### 図6　3層パーセプトロンのプログラム"
   ]
  },
  {
   "cell_type": "code",
   "execution_count": 6,
   "metadata": {},
   "outputs": [],
   "source": [
    "def three_layer_perceptron(X, Y):\n",
    "    for out in range(NC):\n",
    "        ytemp = BY\n",
    "        for mid in range(NM):\n",
    "            mtemp = BM[mid]\n",
    "            for inp in range(NI):\n",
    "                mtemp = mtemp + X[out][inp] * WM[mid][inp]\n",
    "            if mtemp > 0:\n",
    "                M[out][mid] = 1\n",
    "            else:\n",
    "                M[out][mid] = 0\n",
    "            ytemp = ytemp + M[out][mid] * WY[mid]\n",
    "        if ytemp > 0:\n",
    "            Y[out] = 1\n",
    "        else:\n",
    "            Y[out] = 0"
   ]
  },
  {
   "cell_type": "markdown",
   "metadata": {},
   "source": [
    "図6を動かすために，初期値設定"
   ]
  },
  {
   "cell_type": "code",
   "execution_count": 7,
   "metadata": {},
   "outputs": [],
   "source": [
    "NM = 2\n",
    "M = [[0, 0], [0, 0], [0, 0], [0, 0]] # 初期化"
   ]
  },
  {
   "cell_type": "markdown",
   "metadata": {},
   "source": [
    "表3　排他的論理和"
   ]
  },
  {
   "cell_type": "code",
   "execution_count": 8,
   "metadata": {},
   "outputs": [
    {
     "data": {
      "text/plain": [
       "[0, 1, 1, 0]"
      ]
     },
     "execution_count": 8,
     "metadata": {},
     "output_type": "execute_result"
    }
   ],
   "source": [
    "WM = [[0.5, 0.5], [-0.5, -0.5]]\n",
    "BM = [-0.2, 0.7]\n",
    "WY = [0.5, 0.5]\n",
    "BY = -0.6\n",
    "three_layer_perceptron(X, Y)\n",
    "Y"
   ]
  },
  {
   "cell_type": "markdown",
   "metadata": {},
   "source": [
    "#### 設問3"
   ]
  },
  {
   "cell_type": "markdown",
   "metadata": {},
   "source": [
    "同値の例（3層パーセプトロン）"
   ]
  },
  {
   "cell_type": "code",
   "execution_count": 15,
   "metadata": {},
   "outputs": [
    {
     "data": {
      "text/plain": [
       "[1, 0, 0, 1]"
      ]
     },
     "execution_count": 15,
     "metadata": {},
     "output_type": "execute_result"
    }
   ],
   "source": [
    "WM = [[0.5, 0.5], [-0.5, -0.5]]\n",
    "BM = [-0.2, 0.7]\n",
    "WY = [-0.5, -0.5]\n",
    "BY = 0.7\n",
    "three_layer_perceptron(X, Y)\n",
    "Y"
   ]
  },
  {
   "cell_type": "markdown",
   "metadata": {},
   "source": [
    "否定論理和の例（単純パーセプトロン）"
   ]
  },
  {
   "cell_type": "code",
   "execution_count": 16,
   "metadata": {},
   "outputs": [
    {
     "data": {
      "text/plain": [
       "[1, 0, 0, 0]"
      ]
     },
     "execution_count": 16,
     "metadata": {},
     "output_type": "execute_result"
    }
   ],
   "source": [
    "WY = [-0.5, -0.5]\n",
    "BY = 0.2\n",
    "simple_perceptron(X, Y)\n",
    "Y"
   ]
  },
  {
   "cell_type": "code",
   "execution_count": null,
   "metadata": {},
   "outputs": [],
   "source": []
  }
 ],
 "metadata": {
  "kernelspec": {
   "display_name": "Python 3",
   "language": "python",
   "name": "python3"
  },
  "language_info": {
   "codemirror_mode": {
    "name": "ipython",
    "version": 3
   },
   "file_extension": ".py",
   "mimetype": "text/x-python",
   "name": "python",
   "nbconvert_exporter": "python",
   "pygments_lexer": "ipython3",
   "version": "3.7.3"
  }
 },
 "nbformat": 4,
 "nbformat_minor": 2
}
